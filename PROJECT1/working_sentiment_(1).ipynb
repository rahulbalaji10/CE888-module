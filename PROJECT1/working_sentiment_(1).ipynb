{
  "nbformat": 4,
  "nbformat_minor": 0,
  "metadata": {
    "kernelspec": {
      "display_name": "Python 3",
      "language": "python",
      "name": "python3"
    },
    "language_info": {
      "codemirror_mode": {
        "name": "ipython",
        "version": 3
      },
      "file_extension": ".py",
      "mimetype": "text/x-python",
      "name": "python",
      "nbconvert_exporter": "python",
      "pygments_lexer": "ipython3",
      "version": "3.7.6"
    },
    "colab": {
      "name": "working sentiment (1).ipynb",
      "provenance": [],
      "include_colab_link": true
    }
  },
  "cells": [
    {
      "cell_type": "markdown",
      "metadata": {
        "id": "view-in-github",
        "colab_type": "text"
      },
      "source": [
        "<a href=\"https://colab.research.google.com/github/rahulbalaji10/CE888-module/blob/main/PROJECT1/working_sentiment_(1).ipynb\" target=\"_parent\"><img src=\"https://colab.research.google.com/assets/colab-badge.svg\" alt=\"Open In Colab\"/></a>"
      ]
    },
    {
      "cell_type": "code",
      "metadata": {
        "id": "16lYAE6A_f5l"
      },
      "source": [
        "import pandas as pd \n",
        "import numpy as np \n",
        "import matplotlib.pyplot as plt\n",
        "import seaborn as sns"
      ],
      "execution_count": null,
      "outputs": []
    },
    {
      "cell_type": "code",
      "metadata": {
        "id": "dgYkDCHl_f5p",
        "outputId": "57bc8ba1-c3ee-41e5-9df0-2046d65a679f"
      },
      "source": [
        "#training_set\n",
        "df=pd.read_csv(\"train_text.txt\",sep='delimiter',header=None)\n",
        "df_1=pd.read_csv(\"train_labels.txt\",sep='delimiter',header=None)"
      ],
      "execution_count": null,
      "outputs": [
        {
          "output_type": "stream",
          "text": [
            "C:\\Users\\NEW\\anaconda3\\lib\\site-packages\\ipykernel_launcher.py:2: ParserWarning: Falling back to the 'python' engine because the 'c' engine does not support regex separators (separators > 1 char and different from '\\s+' are interpreted as regex); you can avoid this warning by specifying engine='python'.\n",
            "  \n",
            "C:\\Users\\NEW\\anaconda3\\lib\\site-packages\\ipykernel_launcher.py:3: ParserWarning: Falling back to the 'python' engine because the 'c' engine does not support regex separators (separators > 1 char and different from '\\s+' are interpreted as regex); you can avoid this warning by specifying engine='python'.\n",
            "  This is separate from the ipykernel package so we can avoid doing imports until\n"
          ],
          "name": "stderr"
        }
      ]
    },
    {
      "cell_type": "code",
      "metadata": {
        "id": "5saWJZY0_f5r",
        "outputId": "7872c4c8-4aa6-4e3e-ffa5-b88d223d3041"
      },
      "source": [
        "print(df.head())\n",
        "\n",
        "print(df.shape)\n"
      ],
      "execution_count": null,
      "outputs": [
        {
          "output_type": "stream",
          "text": [
            "                                                   0\n",
            "0  \"QT @user In the original draft of the 7th boo...\n",
            "1  \"Ben Smith / Smith (concussion) remains out of...\n",
            "2  Sorry bout the stream last night I crashed out...\n",
            "3  Chase Headley's RBI double in the 8th inning o...\n",
            "4  @user Alciato: Bee will invest 150 million in ...\n",
            "(45615, 1)\n"
          ],
          "name": "stdout"
        }
      ]
    },
    {
      "cell_type": "code",
      "metadata": {
        "id": "akq5ZMUH_f5s",
        "outputId": "2e0fcf46-d9a0-44dd-a2c4-68d451e281c3"
      },
      "source": [
        "print(df_1.head())\n",
        "print(df_1.shape)"
      ],
      "execution_count": null,
      "outputs": [
        {
          "output_type": "stream",
          "text": [
            "   0\n",
            "0  2\n",
            "1  1\n",
            "2  1\n",
            "3  1\n",
            "4  2\n",
            "(45615, 1)\n"
          ],
          "name": "stdout"
        }
      ]
    },
    {
      "cell_type": "code",
      "metadata": {
        "id": "jD4oMyjf_f5t"
      },
      "source": [
        "df.columns=[\"x_train\"]\n",
        "df_1.columns=[\"y_train\"]\n"
      ],
      "execution_count": null,
      "outputs": []
    },
    {
      "cell_type": "code",
      "metadata": {
        "id": "2tFbdJtP_f5t",
        "outputId": "f970681c-2d65-48db-f708-91bfa740be60"
      },
      "source": [
        "concate=[df,df_1]\n",
        "df_train=pd.concat(concate,axis=1,join=\"inner\")\n",
        "df_train.head()"
      ],
      "execution_count": null,
      "outputs": [
        {
          "output_type": "execute_result",
          "data": {
            "text/html": [
              "<div>\n",
              "<style scoped>\n",
              "    .dataframe tbody tr th:only-of-type {\n",
              "        vertical-align: middle;\n",
              "    }\n",
              "\n",
              "    .dataframe tbody tr th {\n",
              "        vertical-align: top;\n",
              "    }\n",
              "\n",
              "    .dataframe thead th {\n",
              "        text-align: right;\n",
              "    }\n",
              "</style>\n",
              "<table border=\"1\" class=\"dataframe\">\n",
              "  <thead>\n",
              "    <tr style=\"text-align: right;\">\n",
              "      <th></th>\n",
              "      <th>x_train</th>\n",
              "      <th>y_train</th>\n",
              "    </tr>\n",
              "  </thead>\n",
              "  <tbody>\n",
              "    <tr>\n",
              "      <th>0</th>\n",
              "      <td>\"QT @user In the original draft of the 7th boo...</td>\n",
              "      <td>2</td>\n",
              "    </tr>\n",
              "    <tr>\n",
              "      <th>1</th>\n",
              "      <td>\"Ben Smith / Smith (concussion) remains out of...</td>\n",
              "      <td>1</td>\n",
              "    </tr>\n",
              "    <tr>\n",
              "      <th>2</th>\n",
              "      <td>Sorry bout the stream last night I crashed out...</td>\n",
              "      <td>1</td>\n",
              "    </tr>\n",
              "    <tr>\n",
              "      <th>3</th>\n",
              "      <td>Chase Headley's RBI double in the 8th inning o...</td>\n",
              "      <td>1</td>\n",
              "    </tr>\n",
              "    <tr>\n",
              "      <th>4</th>\n",
              "      <td>@user Alciato: Bee will invest 150 million in ...</td>\n",
              "      <td>2</td>\n",
              "    </tr>\n",
              "  </tbody>\n",
              "</table>\n",
              "</div>"
            ],
            "text/plain": [
              "                                             x_train  y_train\n",
              "0  \"QT @user In the original draft of the 7th boo...        2\n",
              "1  \"Ben Smith / Smith (concussion) remains out of...        1\n",
              "2  Sorry bout the stream last night I crashed out...        1\n",
              "3  Chase Headley's RBI double in the 8th inning o...        1\n",
              "4  @user Alciato: Bee will invest 150 million in ...        2"
            ]
          },
          "metadata": {
            "tags": []
          },
          "execution_count": 38
        }
      ]
    },
    {
      "cell_type": "code",
      "metadata": {
        "id": "0FMq2YNu_f5u",
        "outputId": "9f0603d2-2247-4786-fe1c-b9d0497506bf"
      },
      "source": [
        "df.columns=[\"x_train\"]\n",
        "words=[\"@user\"]\n",
        "\n",
        "for word in words:\n",
        "    df[\"x_train\"]=df[\"x_train\"].str.replace(word,\"\")\n",
        "df"
      ],
      "execution_count": null,
      "outputs": [
        {
          "output_type": "execute_result",
          "data": {
            "text/html": [
              "<div>\n",
              "<style scoped>\n",
              "    .dataframe tbody tr th:only-of-type {\n",
              "        vertical-align: middle;\n",
              "    }\n",
              "\n",
              "    .dataframe tbody tr th {\n",
              "        vertical-align: top;\n",
              "    }\n",
              "\n",
              "    .dataframe thead th {\n",
              "        text-align: right;\n",
              "    }\n",
              "</style>\n",
              "<table border=\"1\" class=\"dataframe\">\n",
              "  <thead>\n",
              "    <tr style=\"text-align: right;\">\n",
              "      <th></th>\n",
              "      <th>x_train</th>\n",
              "    </tr>\n",
              "  </thead>\n",
              "  <tbody>\n",
              "    <tr>\n",
              "      <th>0</th>\n",
              "      <td>\"QT  In the original draft of the 7th book, Re...</td>\n",
              "    </tr>\n",
              "    <tr>\n",
              "      <th>1</th>\n",
              "      <td>\"Ben Smith / Smith (concussion) remains out of...</td>\n",
              "    </tr>\n",
              "    <tr>\n",
              "      <th>2</th>\n",
              "      <td>Sorry bout the stream last night I crashed out...</td>\n",
              "    </tr>\n",
              "    <tr>\n",
              "      <th>3</th>\n",
              "      <td>Chase Headley's RBI double in the 8th inning o...</td>\n",
              "    </tr>\n",
              "    <tr>\n",
              "      <th>4</th>\n",
              "      <td>Alciato: Bee will invest 150 million in Janua...</td>\n",
              "    </tr>\n",
              "    <tr>\n",
              "      <th>...</th>\n",
              "      <td>...</td>\n",
              "    </tr>\n",
              "    <tr>\n",
              "      <th>45610</th>\n",
              "      <td>\\\"\"So amazing to have the beautiful Lady Gaga...</td>\n",
              "    </tr>\n",
              "    <tr>\n",
              "      <th>45611</th>\n",
              "      <td>9 September has arrived, which means Apple's n...</td>\n",
              "    </tr>\n",
              "    <tr>\n",
              "      <th>45612</th>\n",
              "      <td>Leeds 1-1 Sheff Wed. Giuseppe Bellusci securin...</td>\n",
              "    </tr>\n",
              "    <tr>\n",
              "      <th>45613</th>\n",
              "      <td>no I'm in hilton head till the 8th lol go to ...</td>\n",
              "    </tr>\n",
              "    <tr>\n",
              "      <th>45614</th>\n",
              "      <td>WASHINGTON (Reuters) - U.S. Vice President Joe...</td>\n",
              "    </tr>\n",
              "  </tbody>\n",
              "</table>\n",
              "<p>45615 rows × 1 columns</p>\n",
              "</div>"
            ],
            "text/plain": [
              "                                                 x_train\n",
              "0      \"QT  In the original draft of the 7th book, Re...\n",
              "1      \"Ben Smith / Smith (concussion) remains out of...\n",
              "2      Sorry bout the stream last night I crashed out...\n",
              "3      Chase Headley's RBI double in the 8th inning o...\n",
              "4       Alciato: Bee will invest 150 million in Janua...\n",
              "...                                                  ...\n",
              "45610   \\\"\"So amazing to have the beautiful Lady Gaga...\n",
              "45611  9 September has arrived, which means Apple's n...\n",
              "45612  Leeds 1-1 Sheff Wed. Giuseppe Bellusci securin...\n",
              "45613   no I'm in hilton head till the 8th lol go to ...\n",
              "45614  WASHINGTON (Reuters) - U.S. Vice President Joe...\n",
              "\n",
              "[45615 rows x 1 columns]"
            ]
          },
          "metadata": {
            "tags": []
          },
          "execution_count": 39
        }
      ]
    },
    {
      "cell_type": "code",
      "metadata": {
        "id": "04c_KZbA_f5v",
        "outputId": "f25997e4-5ebc-4e85-dd0f-1cc4f54acd35"
      },
      "source": [
        "df[\"x_train\"].isnull().sum()"
      ],
      "execution_count": null,
      "outputs": [
        {
          "output_type": "execute_result",
          "data": {
            "text/plain": [
              "0"
            ]
          },
          "metadata": {
            "tags": []
          },
          "execution_count": 40
        }
      ]
    },
    {
      "cell_type": "code",
      "metadata": {
        "id": "w_JwFcYC_f5w"
      },
      "source": [
        "df_1.columns=[\"y_train\"]"
      ],
      "execution_count": null,
      "outputs": []
    },
    {
      "cell_type": "code",
      "metadata": {
        "id": "vWf2l5SQ_f5w",
        "outputId": "06634663-6d05-4db5-d2ec-9720a655d510"
      },
      "source": [
        "concate=[df,df_1]\n",
        "df_train=pd.concat(concate,axis=1,join=\"inner\")\n",
        "df_train.head()"
      ],
      "execution_count": null,
      "outputs": [
        {
          "output_type": "execute_result",
          "data": {
            "text/html": [
              "<div>\n",
              "<style scoped>\n",
              "    .dataframe tbody tr th:only-of-type {\n",
              "        vertical-align: middle;\n",
              "    }\n",
              "\n",
              "    .dataframe tbody tr th {\n",
              "        vertical-align: top;\n",
              "    }\n",
              "\n",
              "    .dataframe thead th {\n",
              "        text-align: right;\n",
              "    }\n",
              "</style>\n",
              "<table border=\"1\" class=\"dataframe\">\n",
              "  <thead>\n",
              "    <tr style=\"text-align: right;\">\n",
              "      <th></th>\n",
              "      <th>x_train</th>\n",
              "      <th>y_train</th>\n",
              "    </tr>\n",
              "  </thead>\n",
              "  <tbody>\n",
              "    <tr>\n",
              "      <th>0</th>\n",
              "      <td>\"QT  In the original draft of the 7th book, Re...</td>\n",
              "      <td>2</td>\n",
              "    </tr>\n",
              "    <tr>\n",
              "      <th>1</th>\n",
              "      <td>\"Ben Smith / Smith (concussion) remains out of...</td>\n",
              "      <td>1</td>\n",
              "    </tr>\n",
              "    <tr>\n",
              "      <th>2</th>\n",
              "      <td>Sorry bout the stream last night I crashed out...</td>\n",
              "      <td>1</td>\n",
              "    </tr>\n",
              "    <tr>\n",
              "      <th>3</th>\n",
              "      <td>Chase Headley's RBI double in the 8th inning o...</td>\n",
              "      <td>1</td>\n",
              "    </tr>\n",
              "    <tr>\n",
              "      <th>4</th>\n",
              "      <td>Alciato: Bee will invest 150 million in Janua...</td>\n",
              "      <td>2</td>\n",
              "    </tr>\n",
              "  </tbody>\n",
              "</table>\n",
              "</div>"
            ],
            "text/plain": [
              "                                             x_train  y_train\n",
              "0  \"QT  In the original draft of the 7th book, Re...        2\n",
              "1  \"Ben Smith / Smith (concussion) remains out of...        1\n",
              "2  Sorry bout the stream last night I crashed out...        1\n",
              "3  Chase Headley's RBI double in the 8th inning o...        1\n",
              "4   Alciato: Bee will invest 150 million in Janua...        2"
            ]
          },
          "metadata": {
            "tags": []
          },
          "execution_count": 42
        }
      ]
    },
    {
      "cell_type": "code",
      "metadata": {
        "id": "mNbLmCRT_f5x",
        "outputId": "19fc8a88-73a7-4e64-f6c2-733ca223f03d"
      },
      "source": [
        "df"
      ],
      "execution_count": null,
      "outputs": [
        {
          "output_type": "execute_result",
          "data": {
            "text/html": [
              "<div>\n",
              "<style scoped>\n",
              "    .dataframe tbody tr th:only-of-type {\n",
              "        vertical-align: middle;\n",
              "    }\n",
              "\n",
              "    .dataframe tbody tr th {\n",
              "        vertical-align: top;\n",
              "    }\n",
              "\n",
              "    .dataframe thead th {\n",
              "        text-align: right;\n",
              "    }\n",
              "</style>\n",
              "<table border=\"1\" class=\"dataframe\">\n",
              "  <thead>\n",
              "    <tr style=\"text-align: right;\">\n",
              "      <th></th>\n",
              "      <th>x_train</th>\n",
              "    </tr>\n",
              "  </thead>\n",
              "  <tbody>\n",
              "    <tr>\n",
              "      <th>0</th>\n",
              "      <td>\"QT  In the original draft of the 7th book, Re...</td>\n",
              "    </tr>\n",
              "    <tr>\n",
              "      <th>1</th>\n",
              "      <td>\"Ben Smith / Smith (concussion) remains out of...</td>\n",
              "    </tr>\n",
              "    <tr>\n",
              "      <th>2</th>\n",
              "      <td>Sorry bout the stream last night I crashed out...</td>\n",
              "    </tr>\n",
              "    <tr>\n",
              "      <th>3</th>\n",
              "      <td>Chase Headley's RBI double in the 8th inning o...</td>\n",
              "    </tr>\n",
              "    <tr>\n",
              "      <th>4</th>\n",
              "      <td>Alciato: Bee will invest 150 million in Janua...</td>\n",
              "    </tr>\n",
              "    <tr>\n",
              "      <th>...</th>\n",
              "      <td>...</td>\n",
              "    </tr>\n",
              "    <tr>\n",
              "      <th>45610</th>\n",
              "      <td>\\\"\"So amazing to have the beautiful Lady Gaga...</td>\n",
              "    </tr>\n",
              "    <tr>\n",
              "      <th>45611</th>\n",
              "      <td>9 September has arrived, which means Apple's n...</td>\n",
              "    </tr>\n",
              "    <tr>\n",
              "      <th>45612</th>\n",
              "      <td>Leeds 1-1 Sheff Wed. Giuseppe Bellusci securin...</td>\n",
              "    </tr>\n",
              "    <tr>\n",
              "      <th>45613</th>\n",
              "      <td>no I'm in hilton head till the 8th lol go to ...</td>\n",
              "    </tr>\n",
              "    <tr>\n",
              "      <th>45614</th>\n",
              "      <td>WASHINGTON (Reuters) - U.S. Vice President Joe...</td>\n",
              "    </tr>\n",
              "  </tbody>\n",
              "</table>\n",
              "<p>45615 rows × 1 columns</p>\n",
              "</div>"
            ],
            "text/plain": [
              "                                                 x_train\n",
              "0      \"QT  In the original draft of the 7th book, Re...\n",
              "1      \"Ben Smith / Smith (concussion) remains out of...\n",
              "2      Sorry bout the stream last night I crashed out...\n",
              "3      Chase Headley's RBI double in the 8th inning o...\n",
              "4       Alciato: Bee will invest 150 million in Janua...\n",
              "...                                                  ...\n",
              "45610   \\\"\"So amazing to have the beautiful Lady Gaga...\n",
              "45611  9 September has arrived, which means Apple's n...\n",
              "45612  Leeds 1-1 Sheff Wed. Giuseppe Bellusci securin...\n",
              "45613   no I'm in hilton head till the 8th lol go to ...\n",
              "45614  WASHINGTON (Reuters) - U.S. Vice President Joe...\n",
              "\n",
              "[45615 rows x 1 columns]"
            ]
          },
          "metadata": {
            "tags": []
          },
          "execution_count": 43
        }
      ]
    },
    {
      "cell_type": "code",
      "metadata": {
        "id": "kxViZ53j_f5x"
      },
      "source": [
        ""
      ],
      "execution_count": null,
      "outputs": []
    },
    {
      "cell_type": "code",
      "metadata": {
        "id": "Mo9bb7qM_f5y",
        "outputId": "fd1cac58-6f49-4e8c-94a3-cc3ce24ea321"
      },
      "source": [
        "df_2=pd.read_csv(\"test_text.txt\",sep='delimiter',header= None)\n",
        "df_3=pd.read_csv(\"test_labels.txt\",sep='delimiter',header=None)\n",
        "\n",
        "df_2.columns=[\"x_test\"]\n",
        "df_3.columns=[\"y_test\"]\n",
        "concate=[df_2,df_3]\n",
        "df_test=pd.concat(concate,axis=1,join=\"inner\")\n",
        "df_test.head()"
      ],
      "execution_count": null,
      "outputs": [
        {
          "output_type": "stream",
          "text": [
            "C:\\Users\\NEW\\anaconda3\\lib\\site-packages\\ipykernel_launcher.py:1: ParserWarning: Falling back to the 'python' engine because the 'c' engine does not support regex separators (separators > 1 char and different from '\\s+' are interpreted as regex); you can avoid this warning by specifying engine='python'.\n",
            "  \"\"\"Entry point for launching an IPython kernel.\n",
            "C:\\Users\\NEW\\anaconda3\\lib\\site-packages\\ipykernel_launcher.py:2: ParserWarning: Falling back to the 'python' engine because the 'c' engine does not support regex separators (separators > 1 char and different from '\\s+' are interpreted as regex); you can avoid this warning by specifying engine='python'.\n",
            "  \n"
          ],
          "name": "stderr"
        },
        {
          "output_type": "execute_result",
          "data": {
            "text/html": [
              "<div>\n",
              "<style scoped>\n",
              "    .dataframe tbody tr th:only-of-type {\n",
              "        vertical-align: middle;\n",
              "    }\n",
              "\n",
              "    .dataframe tbody tr th {\n",
              "        vertical-align: top;\n",
              "    }\n",
              "\n",
              "    .dataframe thead th {\n",
              "        text-align: right;\n",
              "    }\n",
              "</style>\n",
              "<table border=\"1\" class=\"dataframe\">\n",
              "  <thead>\n",
              "    <tr style=\"text-align: right;\">\n",
              "      <th></th>\n",
              "      <th>x_test</th>\n",
              "      <th>y_test</th>\n",
              "    </tr>\n",
              "  </thead>\n",
              "  <tbody>\n",
              "    <tr>\n",
              "      <th>0</th>\n",
              "      <td>@user @user what do these '1/2 naked pics' hav...</td>\n",
              "      <td>1</td>\n",
              "    </tr>\n",
              "    <tr>\n",
              "      <th>1</th>\n",
              "      <td>OH: â€œI had a blue penis while I was thisâ€� ...</td>\n",
              "      <td>1</td>\n",
              "    </tr>\n",
              "    <tr>\n",
              "      <th>2</th>\n",
              "      <td>@user @user That's coming, but I think the vic...</td>\n",
              "      <td>1</td>\n",
              "    </tr>\n",
              "    <tr>\n",
              "      <th>3</th>\n",
              "      <td>I think I may be finally in with the in crowd ...</td>\n",
              "      <td>2</td>\n",
              "    </tr>\n",
              "    <tr>\n",
              "      <th>4</th>\n",
              "      <td>@user Wow,first Hugo Chavez and now Fidel Cast...</td>\n",
              "      <td>0</td>\n",
              "    </tr>\n",
              "  </tbody>\n",
              "</table>\n",
              "</div>"
            ],
            "text/plain": [
              "                                              x_test  y_test\n",
              "0  @user @user what do these '1/2 naked pics' hav...       1\n",
              "1  OH: â€œI had a blue penis while I was thisâ€� ...       1\n",
              "2  @user @user That's coming, but I think the vic...       1\n",
              "3  I think I may be finally in with the in crowd ...       2\n",
              "4  @user Wow,first Hugo Chavez and now Fidel Cast...       0"
            ]
          },
          "metadata": {
            "tags": []
          },
          "execution_count": 46
        }
      ]
    },
    {
      "cell_type": "code",
      "metadata": {
        "id": "DQWno4bz_f5y",
        "outputId": "aeee41b0-764d-4c25-8bc1-7aa91bb5bb5b"
      },
      "source": [
        "import re\n",
        "words=[\"@user\"]\n",
        "for word in words:\n",
        "    df_test[\"x_test\"]=df_test[\"x_test\"].str.replace(word,\"\")\n",
        "df_test\n",
        "def remove(url):\n",
        "    url=re.sub(r'http.?://[^\\s]+[\\s]?','',url)\n",
        "    return url\n",
        "df_test[\"x_test\"]=df_test.x_test.apply(lambda x:remove(x))\n",
        "df_test.head()"
      ],
      "execution_count": null,
      "outputs": [
        {
          "output_type": "execute_result",
          "data": {
            "text/html": [
              "<div>\n",
              "<style scoped>\n",
              "    .dataframe tbody tr th:only-of-type {\n",
              "        vertical-align: middle;\n",
              "    }\n",
              "\n",
              "    .dataframe tbody tr th {\n",
              "        vertical-align: top;\n",
              "    }\n",
              "\n",
              "    .dataframe thead th {\n",
              "        text-align: right;\n",
              "    }\n",
              "</style>\n",
              "<table border=\"1\" class=\"dataframe\">\n",
              "  <thead>\n",
              "    <tr style=\"text-align: right;\">\n",
              "      <th></th>\n",
              "      <th>x_test</th>\n",
              "      <th>y_test</th>\n",
              "    </tr>\n",
              "  </thead>\n",
              "  <tbody>\n",
              "    <tr>\n",
              "      <th>0</th>\n",
              "      <td>what do these '1/2 naked pics' have to do wi...</td>\n",
              "      <td>1</td>\n",
              "    </tr>\n",
              "    <tr>\n",
              "      <th>1</th>\n",
              "      <td>OH: â€œI had a blue penis while I was thisâ€� ...</td>\n",
              "      <td>1</td>\n",
              "    </tr>\n",
              "    <tr>\n",
              "      <th>2</th>\n",
              "      <td>That's coming, but I think the victims are g...</td>\n",
              "      <td>1</td>\n",
              "    </tr>\n",
              "    <tr>\n",
              "      <th>3</th>\n",
              "      <td>I think I may be finally in with the in crowd ...</td>\n",
              "      <td>2</td>\n",
              "    </tr>\n",
              "    <tr>\n",
              "      <th>4</th>\n",
              "      <td>Wow,first Hugo Chavez and now Fidel Castro. D...</td>\n",
              "      <td>0</td>\n",
              "    </tr>\n",
              "  </tbody>\n",
              "</table>\n",
              "</div>"
            ],
            "text/plain": [
              "                                              x_test  y_test\n",
              "0    what do these '1/2 naked pics' have to do wi...       1\n",
              "1  OH: â€œI had a blue penis while I was thisâ€� ...       1\n",
              "2    That's coming, but I think the victims are g...       1\n",
              "3  I think I may be finally in with the in crowd ...       2\n",
              "4   Wow,first Hugo Chavez and now Fidel Castro. D...       0"
            ]
          },
          "metadata": {
            "tags": []
          },
          "execution_count": 52
        }
      ]
    },
    {
      "cell_type": "code",
      "metadata": {
        "id": "PoVnfJXD_f5z",
        "outputId": "2adcbe04-23cd-4432-89f5-54430c8a6b35"
      },
      "source": [
        "\n",
        "df_train['y_train'].hist()"
      ],
      "execution_count": null,
      "outputs": [
        {
          "output_type": "execute_result",
          "data": {
            "text/plain": [
              "<matplotlib.axes._subplots.AxesSubplot at 0x1579c02ca48>"
            ]
          },
          "metadata": {
            "tags": []
          },
          "execution_count": 54
        },
        {
          "output_type": "display_data",
          "data": {
            "image/png": "[encoded data removed]",
            "text/plain": [
              "<Figure size 432x288 with 1 Axes>"
            ]
          },
          "metadata": {
            "tags": [],
            "needs_background": "light"
          }
        }
      ]
    },
    {
      "cell_type": "code",
      "metadata": {
        "id": "eZS21S4K_f5z"
      },
      "source": [
        ""
      ],
      "execution_count": null,
      "outputs": []
    },
    {
      "cell_type": "code",
      "metadata": {
        "id": "ZQOMvNiT_f5z"
      },
      "source": [
        ""
      ],
      "execution_count": null,
      "outputs": []
    },
    {
      "cell_type": "code",
      "metadata": {
        "id": "Z8Ahv16T_f50"
      },
      "source": [
        ""
      ],
      "execution_count": null,
      "outputs": []
    }
  ]
}